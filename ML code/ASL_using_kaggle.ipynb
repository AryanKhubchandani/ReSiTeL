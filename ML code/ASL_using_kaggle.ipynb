{
  "nbformat": 4,
  "nbformat_minor": 0,
  "metadata": {
    "colab": {
      "name": "ASL using kaggle",
      "provenance": [],
      "collapsed_sections": []
    },
    "kernelspec": {
      "name": "python3",
      "display_name": "Python 3"
    }
  },
  "cells": [
    {
      "cell_type": "markdown",
      "metadata": {
        "id": "0OoFRINJqUON"
      },
      "source": [
        "# **AMERICAN SIGN LANGUAGE RECOGNITION PROJECT**"
      ]
    },
    {
      "cell_type": "markdown",
      "metadata": {
        "id": "uOkrMX7pltRV"
      },
      "source": [
        "# Setting up the environment and kaggle API"
      ]
    },
    {
      "cell_type": "markdown",
      "metadata": {
        "id": "OPvr1WtWkxCA"
      },
      "source": [
        "**Importing tensorflow and checking tensorflow:**"
      ]
    },
    {
      "cell_type": "code",
      "metadata": {
        "id": "qmvg83hWn2fZ"
      },
      "source": [
        "pip install tensorflow==1.15"
      ],
      "execution_count": null,
      "outputs": []
    },
    {
      "cell_type": "code",
      "metadata": {
        "id": "oQLyAaBpmNGj",
        "colab": {
          "base_uri": "https://localhost:8080/"
        },
        "outputId": "818b80e2-11ed-48a9-eccb-be958524449c"
      },
      "source": [
        "!git clone https://github.com/VedantMistry13/American-Sign-Language-Recognition-using-Deep-Neural-Network"
      ],
      "execution_count": null,
      "outputs": [
        {
          "output_type": "stream",
          "name": "stdout",
          "text": [
            "Cloning into 'American-Sign-Language-Recognition-using-Deep-Neural-Network'...\n",
            "remote: Enumerating objects: 40, done.\u001b[K\n",
            "remote: Counting objects:   2% (1/40)\u001b[K\rremote: Counting objects:   5% (2/40)\u001b[K\rremote: Counting objects:   7% (3/40)\u001b[K\rremote: Counting objects:  10% (4/40)\u001b[K\rremote: Counting objects:  12% (5/40)\u001b[K\rremote: Counting objects:  15% (6/40)\u001b[K\rremote: Counting objects:  17% (7/40)\u001b[K\rremote: Counting objects:  20% (8/40)\u001b[K\rremote: Counting objects:  22% (9/40)\u001b[K\rremote: Counting objects:  25% (10/40)\u001b[K\rremote: Counting objects:  27% (11/40)\u001b[K\rremote: Counting objects:  30% (12/40)\u001b[K\rremote: Counting objects:  32% (13/40)\u001b[K\rremote: Counting objects:  35% (14/40)\u001b[K\rremote: Counting objects:  37% (15/40)\u001b[K\rremote: Counting objects:  40% (16/40)\u001b[K\rremote: Counting objects:  42% (17/40)\u001b[K\rremote: Counting objects:  45% (18/40)\u001b[K\rremote: Counting objects:  47% (19/40)\u001b[K\rremote: Counting objects:  50% (20/40)\u001b[K\rremote: Counting objects:  52% (21/40)\u001b[K\rremote: Counting objects:  55% (22/40)\u001b[K\rremote: Counting objects:  57% (23/40)\u001b[K\rremote: Counting objects:  60% (24/40)\u001b[K\rremote: Counting objects:  62% (25/40)\u001b[K\rremote: Counting objects:  65% (26/40)\u001b[K\rremote: Counting objects:  67% (27/40)\u001b[K\rremote: Counting objects:  70% (28/40)\u001b[K\rremote: Counting objects:  72% (29/40)\u001b[K\rremote: Counting objects:  75% (30/40)\u001b[K\rremote: Counting objects:  77% (31/40)\u001b[K\rremote: Counting objects:  80% (32/40)\u001b[K\rremote: Counting objects:  82% (33/40)\u001b[K\rremote: Counting objects:  85% (34/40)\u001b[K\rremote: Counting objects:  87% (35/40)\u001b[K\rremote: Counting objects:  90% (36/40)\u001b[K\rremote: Counting objects:  92% (37/40)\u001b[K\rremote: Counting objects:  95% (38/40)\u001b[K\rremote: Counting objects:  97% (39/40)\u001b[K\rremote: Counting objects: 100% (40/40)\u001b[K\rremote: Counting objects: 100% (40/40), done.\u001b[K\n",
            "remote: Compressing objects: 100% (38/38), done.\u001b[K\n",
            "remote: Total 40 (delta 3), reused 31 (delta 0), pack-reused 0\u001b[K\n",
            "Unpacking objects: 100% (40/40), done.\n"
          ]
        }
      ]
    },
    {
      "cell_type": "code",
      "metadata": {
        "id": "-UOYnjDtxOfh",
        "colab": {
          "base_uri": "https://localhost:8080/"
        },
        "outputId": "2a793ffe-0f8c-46f8-8574-d0b1cd897365"
      },
      "source": [
        "import tensorflow as tf\n",
        "\n",
        "print(tf.__version__)"
      ],
      "execution_count": null,
      "outputs": [
        {
          "output_type": "stream",
          "name": "stdout",
          "text": [
            "1.15.0\n"
          ]
        }
      ]
    },
    {
      "cell_type": "markdown",
      "metadata": {
        "id": "QE-cVZoik7h0"
      },
      "source": [
        "**Installing kaggle so as to download the dataset using kaggle API:**"
      ]
    },
    {
      "cell_type": "code",
      "metadata": {
        "colab": {
          "base_uri": "https://localhost:8080/"
        },
        "id": "RDPdi1DN1rOB",
        "outputId": "367bcd5b-dbd2-4a7c-ba23-f122827043a8"
      },
      "source": [
        "cd ./asl2"
      ],
      "execution_count": null,
      "outputs": [
        {
          "output_type": "stream",
          "name": "stdout",
          "text": [
            "/content/asl2\n"
          ]
        }
      ]
    },
    {
      "cell_type": "code",
      "metadata": {
        "id": "ITlpP2Ad3Dfw",
        "colab": {
          "base_uri": "https://localhost:8080/"
        },
        "outputId": "294e3fb4-8b12-4993-e6f8-43661fe4d7de"
      },
      "source": [
        "from google.colab import drive\n",
        "drive.mount('/content/drive')"
      ],
      "execution_count": null,
      "outputs": [
        {
          "output_type": "stream",
          "name": "stdout",
          "text": [
            "Mounted at /content/drive\n"
          ]
        }
      ]
    },
    {
      "cell_type": "code",
      "metadata": {
        "id": "kCw1UpHmoot8"
      },
      "source": [
        "cd ./content/asl2"
      ],
      "execution_count": null,
      "outputs": []
    },
    {
      "cell_type": "code",
      "metadata": {
        "id": "1J67c8oxxX8n",
        "colab": {
          "base_uri": "https://localhost:8080/"
        },
        "outputId": "4c467b93-8815-4322-9aaf-7deb6dd3b36a"
      },
      "source": [
        "!pip install -q kaggle"
      ],
      "execution_count": null,
      "outputs": [
        {
          "output_type": "stream",
          "name": "stdout",
          "text": [
            "Requirement already satisfied: kaggle in /usr/local/lib/python3.7/dist-packages (1.5.12)\n",
            "Requirement already satisfied: requests in /usr/local/lib/python3.7/dist-packages (from kaggle) (2.23.0)\n",
            "Requirement already satisfied: python-dateutil in /usr/local/lib/python3.7/dist-packages (from kaggle) (2.8.2)\n",
            "Requirement already satisfied: six>=1.10 in /usr/local/lib/python3.7/dist-packages (from kaggle) (1.15.0)\n",
            "Requirement already satisfied: certifi in /usr/local/lib/python3.7/dist-packages (from kaggle) (2021.10.8)\n",
            "Requirement already satisfied: urllib3 in /usr/local/lib/python3.7/dist-packages (from kaggle) (1.24.3)\n",
            "Requirement already satisfied: tqdm in /usr/local/lib/python3.7/dist-packages (from kaggle) (4.62.3)\n",
            "Requirement already satisfied: python-slugify in /usr/local/lib/python3.7/dist-packages (from kaggle) (5.0.2)\n",
            "Requirement already satisfied: text-unidecode>=1.3 in /usr/local/lib/python3.7/dist-packages (from python-slugify->kaggle) (1.3)\n",
            "Requirement already satisfied: chardet<4,>=3.0.2 in /usr/local/lib/python3.7/dist-packages (from requests->kaggle) (3.0.4)\n",
            "Requirement already satisfied: idna<3,>=2.5 in /usr/local/lib/python3.7/dist-packages (from requests->kaggle) (2.10)\n"
          ]
        }
      ]
    },
    {
      "cell_type": "markdown",
      "metadata": {
        "id": "7CmyhlZ2k5NP"
      },
      "source": [
        "**Setting up the kaggle.json authentication file enabling me to download the dataset:**"
      ]
    },
    {
      "cell_type": "code",
      "metadata": {
        "id": "vCYANvD7mfmW",
        "colab": {
          "base_uri": "https://localhost:8080/"
        },
        "outputId": "f8cbedb8-bcc0-4aeb-c08b-a5b7e475c44d"
      },
      "source": [
        "cd /usr/local/lib/python3.7/dist-packages/kaggle"
      ],
      "execution_count": null,
      "outputs": [
        {
          "output_type": "stream",
          "name": "stdout",
          "text": [
            "/usr/local/lib/python3.7/dist-packages/kaggle\n"
          ]
        }
      ]
    },
    {
      "cell_type": "code",
      "metadata": {
        "id": "AV8HIBCyrZM_"
      },
      "source": [
        "!cp /content/asl2/kaggle.json ~/.kaggle/kaggle.json"
      ],
      "execution_count": null,
      "outputs": []
    },
    {
      "cell_type": "code",
      "metadata": {
        "id": "_b68L2LcniFt"
      },
      "source": [
        "!chmod 600 /root/.kaggle/kaggle.json"
      ],
      "execution_count": null,
      "outputs": []
    },
    {
      "cell_type": "code",
      "metadata": {
        "id": "Nrcn91pUzNO6",
        "colab": {
          "base_uri": "https://localhost:8080/"
        },
        "outputId": "33f3c88e-b5f1-4978-b7e9-2975e52a53b7"
      },
      "source": [
        "!mkdir -p ~/.kaggle\n",
        "!cp kaggle.json ~/.kaggle/"
      ],
      "execution_count": null,
      "outputs": [
        {
          "output_type": "stream",
          "name": "stdout",
          "text": [
            "cp: cannot stat 'kaggle.json': No such file or directory\n"
          ]
        }
      ]
    },
    {
      "cell_type": "code",
      "metadata": {
        "colab": {
          "base_uri": "https://localhost:8080/"
        },
        "id": "0T8iX8Bs5ynu",
        "outputId": "e20838d1-f1b1-4477-a16a-cb45b73240f5"
      },
      "source": [
        "!sudo apt-get install fastjar"
      ],
      "execution_count": null,
      "outputs": [
        {
          "output_type": "stream",
          "name": "stdout",
          "text": [
            "Reading package lists... Done\n",
            "Building dependency tree       \n",
            "Reading state information... Done\n",
            "The following NEW packages will be installed:\n",
            "  fastjar\n",
            "0 upgraded, 1 newly installed, 0 to remove and 37 not upgraded.\n",
            "Need to get 66.7 kB of archives.\n",
            "After this operation, 175 kB of additional disk space will be used.\n",
            "Get:1 http://archive.ubuntu.com/ubuntu bionic/universe amd64 fastjar amd64 2:0.98-6build1 [66.7 kB]\n",
            "Fetched 66.7 kB in 1s (130 kB/s)\n",
            "debconf: unable to initialize frontend: Dialog\n",
            "debconf: (No usable dialog-like program is installed, so the dialog based frontend cannot be used. at /usr/share/perl5/Debconf/FrontEnd/Dialog.pm line 76, <> line 1.)\n",
            "debconf: falling back to frontend: Readline\n",
            "debconf: unable to initialize frontend: Readline\n",
            "debconf: (This frontend requires a controlling tty.)\n",
            "debconf: falling back to frontend: Teletype\n",
            "dpkg-preconfigure: unable to re-open stdin: \n",
            "Selecting previously unselected package fastjar.\n",
            "(Reading database ... 155222 files and directories currently installed.)\n",
            "Preparing to unpack .../fastjar_2%3a0.98-6build1_amd64.deb ...\n",
            "Unpacking fastjar (2:0.98-6build1) ...\n",
            "Setting up fastjar (2:0.98-6build1) ...\n",
            "Processing triggers for man-db (2.8.3-2ubuntu0.1) ...\n"
          ]
        }
      ]
    },
    {
      "cell_type": "code",
      "metadata": {
        "colab": {
          "base_uri": "https://localhost:8080/"
        },
        "id": "l6Gtkqua87hY",
        "outputId": "c8612aff-0811-421b-c635-32be8b54d64e"
      },
      "source": [
        "cd /content/drive/MyDrive/"
      ],
      "execution_count": null,
      "outputs": [
        {
          "output_type": "stream",
          "name": "stdout",
          "text": [
            "/content/drive/MyDrive\n"
          ]
        }
      ]
    },
    {
      "cell_type": "code",
      "metadata": {
        "colab": {
          "base_uri": "https://localhost:8080/"
        },
        "id": "I82iy9mVOLl_",
        "outputId": "2dab0563-8b56-498f-d938-d5f468d7f9d4"
      },
      "source": [
        "ls "
      ],
      "execution_count": null,
      "outputs": [
        {
          "output_type": "stream",
          "name": "stdout",
          "text": [
            " 19BCB0095_dose2.pdf  'Cao quiz_1_19BCB0095.pdf'   NLP_project_code.ipynb\n",
            " 19BCB0095_DOSE2.pdf   Cao_quiz_2_19BCB0095.pdf    Resume.pdf\n",
            "\u001b[0m\u001b[01;34m'A2_NLP_TEAM ID 18'\u001b[0m/  'Getting started.pdf'        sesh.wmv\n",
            "\u001b[01;34m'After Effects'\u001b[0m/      \u001b[01;34m'image processing'\u001b[0m/         \u001b[01;34m'TEAM UAV WORK'\u001b[0m/\n",
            " \u001b[01;34masl_alphabet_train\u001b[0m/  \u001b[01;34m'Meet Recordings'\u001b[0m/           \u001b[01;34mUDAIPUR5_OCT2011\u001b[0m/\n",
            "\u001b[01;34m'CA FINAL NAVKAR'\u001b[0m/     netcomclass.pdf\n"
          ]
        }
      ]
    },
    {
      "cell_type": "code",
      "metadata": {
        "id": "DBe3GC9v6Dbs"
      },
      "source": [
        "!jar xvf archive.zip"
      ],
      "execution_count": null,
      "outputs": []
    },
    {
      "cell_type": "markdown",
      "metadata": {
        "id": "1WyrqUq3lS_h"
      },
      "source": [
        "# Downloading the grassknoted/asl-alphabet available [here](https://www.kaggle.com/grassknoted/asl-alphabet)"
      ]
    },
    {
      "cell_type": "markdown",
      "metadata": {
        "id": "6hOCtkdTmJV2"
      },
      "source": [
        "**Downloading the dataset using the API:**"
      ]
    },
    {
      "cell_type": "markdown",
      "metadata": {
        "id": "2K4MHAy0l86n"
      },
      "source": [
        "**Extracting the contents:**"
      ]
    },
    {
      "cell_type": "markdown",
      "metadata": {
        "id": "C2-_cTFamgpu"
      },
      "source": [
        "# Looking at the dataset"
      ]
    },
    {
      "cell_type": "markdown",
      "metadata": {
        "id": "tvslYmS1mk-H"
      },
      "source": [
        "**Specifying train and test directories:**"
      ]
    },
    {
      "cell_type": "code",
      "metadata": {
        "id": "fSY7woTT0nrC"
      },
      "source": [
        "# Specifying the training and test directories\n",
        "\n",
        "TRAINING_DIR = './asl_alphabet_train/asl_alphabet_train/'\n",
        "#TEST_DIR = './asl_alphabet_test/asl_alphabet_test/'"
      ],
      "execution_count": null,
      "outputs": []
    },
    {
      "cell_type": "markdown",
      "metadata": {
        "id": "2RkBWLZ-mr-z"
      },
      "source": [
        "**Looking at some random images from the dataset:**"
      ]
    },
    {
      "cell_type": "code",
      "metadata": {
        "id": "-E01oqNN5zvF",
        "colab": {
          "base_uri": "https://localhost:8080/",
          "height": 642
        },
        "outputId": "887ed198-60ea-4c18-c6b9-758fb380fec5"
      },
      "source": [
        "# Printing 5 random images from any training category or from a specified category\n",
        "%matplotlib inline\n",
        "\n",
        "import cv2\n",
        "import os\n",
        "import random\n",
        "import numpy as np\n",
        "import matplotlib.image as mpimg\n",
        "import matplotlib.pyplot as plt\n",
        "\n",
        "number_of_rows = 1\n",
        "number_of_columns = 5\n",
        "\n",
        "categories = os.listdir(TRAINING_DIR)\n",
        "\n",
        "random.seed(13)\n",
        "\n",
        "category = categories[random.randint(1, 30)]\n",
        "# category = 'A'\n",
        "\n",
        "for i in range(number_of_columns):\n",
        "  subplot = plt.subplot(number_of_rows, number_of_columns, i + 1)\n",
        "  subplot.axis('Off')\n",
        "  subplot.set_title(category)\n",
        "  image_path = os.path.join(\n",
        "      TRAINING_DIR,\n",
        "      str(category),\n",
        "      str(category) + str(random.randint(1, 1000)) + '.jpg'\n",
        "  )\n",
        "  image = mpimg.imread(image_path)\n",
        "  plt.imshow(image)\n",
        "  \n",
        "plt.show()"
      ],
      "execution_count": null,
      "outputs": [
        {
          "output_type": "error",
          "ename": "FileNotFoundError",
          "evalue": "ignored",
          "traceback": [
            "\u001b[0;31m---------------------------------------------------------------------------\u001b[0m",
            "\u001b[0;31mFileNotFoundError\u001b[0m                         Traceback (most recent call last)",
            "\u001b[0;32m<ipython-input-13-99c5bb44e2ab>\u001b[0m in \u001b[0;36m<module>\u001b[0;34m()\u001b[0m\n\u001b[1;32m     28\u001b[0m       \u001b[0mstr\u001b[0m\u001b[0;34m(\u001b[0m\u001b[0mcategory\u001b[0m\u001b[0;34m)\u001b[0m \u001b[0;34m+\u001b[0m \u001b[0mstr\u001b[0m\u001b[0;34m(\u001b[0m\u001b[0mrandom\u001b[0m\u001b[0;34m.\u001b[0m\u001b[0mrandint\u001b[0m\u001b[0;34m(\u001b[0m\u001b[0;36m1\u001b[0m\u001b[0;34m,\u001b[0m \u001b[0;36m1000\u001b[0m\u001b[0;34m)\u001b[0m\u001b[0;34m)\u001b[0m \u001b[0;34m+\u001b[0m \u001b[0;34m'.jpg'\u001b[0m\u001b[0;34m\u001b[0m\u001b[0;34m\u001b[0m\u001b[0m\n\u001b[1;32m     29\u001b[0m   )\n\u001b[0;32m---> 30\u001b[0;31m   \u001b[0mimage\u001b[0m \u001b[0;34m=\u001b[0m \u001b[0mmpimg\u001b[0m\u001b[0;34m.\u001b[0m\u001b[0mimread\u001b[0m\u001b[0;34m(\u001b[0m\u001b[0mimage_path\u001b[0m\u001b[0;34m)\u001b[0m\u001b[0;34m\u001b[0m\u001b[0;34m\u001b[0m\u001b[0m\n\u001b[0m\u001b[1;32m     31\u001b[0m   \u001b[0mplt\u001b[0m\u001b[0;34m.\u001b[0m\u001b[0mimshow\u001b[0m\u001b[0;34m(\u001b[0m\u001b[0mimage\u001b[0m\u001b[0;34m)\u001b[0m\u001b[0;34m\u001b[0m\u001b[0;34m\u001b[0m\u001b[0m\n\u001b[1;32m     32\u001b[0m \u001b[0;34m\u001b[0m\u001b[0m\n",
            "\u001b[0;32m/usr/local/lib/python3.7/dist-packages/matplotlib/image.py\u001b[0m in \u001b[0;36mimread\u001b[0;34m(fname, format)\u001b[0m\n\u001b[1;32m   1462\u001b[0m             raise ValueError('Only know how to handle PNG; with Pillow '\n\u001b[1;32m   1463\u001b[0m                              'installed, Matplotlib can handle more images')\n\u001b[0;32m-> 1464\u001b[0;31m         \u001b[0;32mwith\u001b[0m \u001b[0mImage\u001b[0m\u001b[0;34m.\u001b[0m\u001b[0mopen\u001b[0m\u001b[0;34m(\u001b[0m\u001b[0mfname\u001b[0m\u001b[0;34m)\u001b[0m \u001b[0;32mas\u001b[0m \u001b[0mimage\u001b[0m\u001b[0;34m:\u001b[0m\u001b[0;34m\u001b[0m\u001b[0;34m\u001b[0m\u001b[0m\n\u001b[0m\u001b[1;32m   1465\u001b[0m             \u001b[0;32mreturn\u001b[0m \u001b[0mpil_to_array\u001b[0m\u001b[0;34m(\u001b[0m\u001b[0mimage\u001b[0m\u001b[0;34m)\u001b[0m\u001b[0;34m\u001b[0m\u001b[0;34m\u001b[0m\u001b[0m\n\u001b[1;32m   1466\u001b[0m     \u001b[0;32mfrom\u001b[0m \u001b[0mmatplotlib\u001b[0m \u001b[0;32mimport\u001b[0m \u001b[0m_png\u001b[0m\u001b[0;34m\u001b[0m\u001b[0;34m\u001b[0m\u001b[0m\n",
            "\u001b[0;32m/usr/local/lib/python3.7/dist-packages/PIL/Image.py\u001b[0m in \u001b[0;36mopen\u001b[0;34m(fp, mode)\u001b[0m\n\u001b[1;32m   2841\u001b[0m \u001b[0;34m\u001b[0m\u001b[0m\n\u001b[1;32m   2842\u001b[0m     \u001b[0;32mif\u001b[0m \u001b[0mfilename\u001b[0m\u001b[0;34m:\u001b[0m\u001b[0;34m\u001b[0m\u001b[0;34m\u001b[0m\u001b[0m\n\u001b[0;32m-> 2843\u001b[0;31m         \u001b[0mfp\u001b[0m \u001b[0;34m=\u001b[0m \u001b[0mbuiltins\u001b[0m\u001b[0;34m.\u001b[0m\u001b[0mopen\u001b[0m\u001b[0;34m(\u001b[0m\u001b[0mfilename\u001b[0m\u001b[0;34m,\u001b[0m \u001b[0;34m\"rb\"\u001b[0m\u001b[0;34m)\u001b[0m\u001b[0;34m\u001b[0m\u001b[0;34m\u001b[0m\u001b[0m\n\u001b[0m\u001b[1;32m   2844\u001b[0m         \u001b[0mexclusive_fp\u001b[0m \u001b[0;34m=\u001b[0m \u001b[0;32mTrue\u001b[0m\u001b[0;34m\u001b[0m\u001b[0;34m\u001b[0m\u001b[0m\n\u001b[1;32m   2845\u001b[0m \u001b[0;34m\u001b[0m\u001b[0m\n",
            "\u001b[0;31mFileNotFoundError\u001b[0m: [Errno 2] No such file or directory: './asl_alphabet_train/asl_alphabet_train/J/J298.jpg'"
          ]
        },
        {
          "output_type": "display_data",
          "data": {
            "image/png": "[encoded data removed]",
            "text/plain": [
              "<Figure size 432x288 with 1 Axes>"
            ]
          },
          "metadata": {
            "needs_background": "light"
          }
        }
      ]
    },
    {
      "cell_type": "markdown",
      "metadata": {
        "id": "bNMwACdkmxzb"
      },
      "source": [
        "# Preparing the training set"
      ]
    },
    {
      "cell_type": "markdown",
      "metadata": {
        "id": "cFowqDJ_m5Uh"
      },
      "source": [
        "**Augmenting the data with brightness and zoom ranges:**"
      ]
    },
    {
      "cell_type": "code",
      "metadata": {
        "id": "5WAWg_u617Fw",
        "colab": {
          "base_uri": "https://localhost:8080/"
        },
        "outputId": "c805ebd5-3032-4e98-ff98-d266d4a2c80d"
      },
      "source": [
        "# Preparing ImageDataGenerator object for training the model\n",
        "from tensorflow.keras.preprocessing.image import ImageDataGenerator\n",
        "\n",
        "IMAGE_SIZE = 200\n",
        "BATCH_SIZE = 64\n",
        "\n",
        "data_generator = ImageDataGenerator(\n",
        "    samplewise_center=True, \n",
        "    samplewise_std_normalization=True,\n",
        "    brightness_range=[0.8, 1.0],\n",
        "    zoom_range=[1.0, 1.2],\n",
        "    validation_split=0.1\n",
        ")\n",
        "\n",
        "train_generator = data_generator.flow_from_directory(TRAINING_DIR, target_size=(IMAGE_SIZE, IMAGE_SIZE), shuffle=True, seed=13,\n",
        "                                                     class_mode='categorical', batch_size=BATCH_SIZE, subset=\"training\")\n",
        "\n",
        "validation_generator = data_generator.flow_from_directory(TRAINING_DIR, target_size=(IMAGE_SIZE, IMAGE_SIZE), shuffle=True, seed=13,\n",
        "                                                     class_mode='categorical', batch_size=BATCH_SIZE, subset=\"validation\")"
      ],
      "execution_count": null,
      "outputs": [
        {
          "output_type": "stream",
          "name": "stdout",
          "text": [
            "Found 19823 images belonging to 29 classes.\n",
            "Found 2188 images belonging to 29 classes.\n"
          ]
        }
      ]
    },
    {
      "cell_type": "markdown",
      "metadata": {
        "id": "q2Uvq3DOnQdF"
      },
      "source": [
        "# Preparing the model for training"
      ]
    },
    {
      "cell_type": "markdown",
      "metadata": {
        "id": "DCD_SGLFnKnk"
      },
      "source": [
        "**Downloading custom weight file if required:**"
      ]
    },
    {
      "cell_type": "code",
      "metadata": {
        "id": "PjX76h9Y7ya3",
        "colab": {
          "base_uri": "https://localhost:8080/"
        },
        "outputId": "3be6634e-5921-4244-a945-a80faa19e9d0"
      },
      "source": [
        "!wget --no-check-certificate \\\n",
        "    https://storage.googleapis.com/mledu-datasets/inception_v3_weights_tf_dim_ordering_tf_kernels_notop.h5 \\\n",
        "    -O /content/inception_v3_weights_tf_dim_ordering_tf_kernels_notop.h5"
      ],
      "execution_count": null,
      "outputs": [
        {
          "output_type": "stream",
          "name": "stdout",
          "text": [
            "--2021-12-05 15:42:53--  https://storage.googleapis.com/mledu-datasets/inception_v3_weights_tf_dim_ordering_tf_kernels_notop.h5\n",
            "Resolving storage.googleapis.com (storage.googleapis.com)... 64.233.191.128, 173.194.74.128, 173.194.192.128, ...\n",
            "Connecting to storage.googleapis.com (storage.googleapis.com)|64.233.191.128|:443... connected.\n",
            "HTTP request sent, awaiting response... 200 OK\n",
            "Length: 87910968 (84M) [application/x-hdf]\n",
            "Saving to: ‘/content/inception_v3_weights_tf_dim_ordering_tf_kernels_notop.h5’\n",
            "\n",
            "/content/inception_ 100%[===================>]  83.84M   188MB/s    in 0.4s    \n",
            "\n",
            "2021-12-05 15:42:53 (188 MB/s) - ‘/content/inception_v3_weights_tf_dim_ordering_tf_kernels_notop.h5’ saved [87910968/87910968]\n",
            "\n"
          ]
        }
      ]
    },
    {
      "cell_type": "markdown",
      "metadata": {
        "id": "v-D_ejimn4Ll"
      },
      "source": [
        "**Preparing Inception V3 Network for transfer learning:**"
      ]
    },
    {
      "cell_type": "code",
      "metadata": {
        "colab": {
          "base_uri": "https://localhost:8080/",
          "height": 295
        },
        "id": "5QGxij90E1Oo",
        "outputId": "5b56fea5-4e99-4e51-a428-a154c68d1732"
      },
      "source": [
        "pip install h5py==2.10.0\n"
      ],
      "execution_count": null,
      "outputs": [
        {
          "output_type": "stream",
          "name": "stdout",
          "text": [
            "Collecting h5py==2.10.0\n",
            "  Downloading h5py-2.10.0-cp37-cp37m-manylinux1_x86_64.whl (2.9 MB)\n",
            "\u001b[K     |████████████████████████████████| 2.9 MB 5.2 MB/s \n",
            "\u001b[?25hRequirement already satisfied: six in /usr/local/lib/python3.7/dist-packages (from h5py==2.10.0) (1.15.0)\n",
            "Requirement already satisfied: numpy>=1.7 in /usr/local/lib/python3.7/dist-packages (from h5py==2.10.0) (1.19.5)\n",
            "Installing collected packages: h5py\n",
            "  Attempting uninstall: h5py\n",
            "    Found existing installation: h5py 3.1.0\n",
            "    Uninstalling h5py-3.1.0:\n",
            "      Successfully uninstalled h5py-3.1.0\n",
            "Successfully installed h5py-2.10.0\n"
          ]
        },
        {
          "output_type": "display_data",
          "data": {
            "application/vnd.colab-display-data+json": {
              "pip_warning": {
                "packages": [
                  "h5py"
                ]
              }
            }
          },
          "metadata": {}
        }
      ]
    },
    {
      "cell_type": "code",
      "metadata": {
        "id": "c4GFWxTZLWVM"
      },
      "source": [
        "# Loading inception v3 network for transfer learning\n",
        "from tensorflow.keras import layers\n",
        "from tensorflow.keras import Model\n",
        "\n",
        "from tensorflow.keras.applications.inception_v3 import InceptionV3\n",
        "\n",
        "WEIGHTS_FILE = './inception_v3_weights_tf_dim_ordering_tf_kernels_notop.h5'\n",
        "\n",
        "model = InceptionV3(input_shape = (IMAGE_SIZE, IMAGE_SIZE, 3), include_top = False,weights='imagenet')\n",
        "\n",
        "# Not required --> inception_v3_model.load_weights(WEIGHTS_FILE)\n",
        "\n",
        "# Enabling the top 2 inception blocks to train\n",
        "for layer in model.layers[:249]:\n",
        "    layer.trainable = False\n",
        "for layer in model.layers[249:]:\n",
        "    layer.trainable = True\n",
        "    \n",
        "# Checking model summary to pick a layer (if required)\n",
        "model.summary()"
      ],
      "execution_count": null,
      "outputs": []
    },
    {
      "cell_type": "markdown",
      "metadata": {
        "id": "U-8fgl6noAiV"
      },
      "source": [
        "**Choosing the inception output layer:**"
      ]
    },
    {
      "cell_type": "code",
      "metadata": {
        "id": "A8YjOsgxMtDe",
        "colab": {
          "base_uri": "https://localhost:8080/"
        },
        "outputId": "d73e9f0b-90e2-4ed6-9ec1-0dcbce70a4b2"
      },
      "source": [
        "# Choosing the output layer to be merged with our FC layers (if required)\n",
        "inception_output_layer = model.get_layer('mixed7')\n",
        "print('Inception model output shape:', inception_output_layer.output_shape)\n",
        "\n",
        "# Not required --> inception_output = inception_output_layer.output\n",
        "inception_output = model.output"
      ],
      "execution_count": null,
      "outputs": [
        {
          "output_type": "stream",
          "name": "stdout",
          "text": [
            "Inception model output shape: (None, 10, 10, 768)\n"
          ]
        }
      ]
    },
    {
      "cell_type": "markdown",
      "metadata": {
        "id": "_ifJCgHaoFKm"
      },
      "source": [
        "**Adding our own set of fully connected layers at the end of Inception v3 network:**"
      ]
    },
    {
      "cell_type": "code",
      "metadata": {
        "id": "7ic3Lj_pNceH"
      },
      "source": [
        "from tensorflow.keras.optimizers import RMSprop, Adam, SGD\n",
        "\n",
        "x = layers.GlobalAveragePooling2D()(inception_output)\n",
        "x = layers.Dense(1024, activation='relu')(x)\n",
        "# Not required --> x = layers.Dropout(0.2)(x)                  \n",
        "x = layers.Dense(29, activation='softmax')(x)           \n",
        "\n",
        "model = Model(model.input, x) \n",
        "\n",
        "model.compile(\n",
        "    optimizer=SGD(lr=0.0001, momentum=0.9),\n",
        "    loss='categorical_crossentropy',\n",
        "    metrics=['acc']\n",
        ")"
      ],
      "execution_count": null,
      "outputs": []
    },
    {
      "cell_type": "markdown",
      "metadata": {
        "id": "WFoNKcvkoWA2"
      },
      "source": [
        "**Looking at the final model:**"
      ]
    },
    {
      "cell_type": "code",
      "metadata": {
        "id": "hMw3sy6fOS2G"
      },
      "source": [
        "# Watch the new model summary\n",
        "model.summary()"
      ],
      "execution_count": null,
      "outputs": []
    },
    {
      "cell_type": "markdown",
      "metadata": {
        "id": "TBsj6WNwocPI"
      },
      "source": [
        "**Setting up a callback funtion in order to stop training at a particular threshold:**"
      ]
    },
    {
      "cell_type": "code",
      "metadata": {
        "id": "SlbZNjuQOsU3"
      },
      "source": [
        "# Creating a callback to stop model training after reaching a threshold accuracy\n",
        "\n",
        "LOSS_THRESHOLD = 0.2\n",
        "ACCURACY_THRESHOLD = 0.95\n",
        "\n",
        "class ModelCallback(tf.keras.callbacks.Callback):\n",
        "  def on_epoch_end(self, epoch, logs={}):\n",
        "    if logs.get('val_loss') <= LOSS_THRESHOLD and logs.get('val_acc') >= ACCURACY_THRESHOLD:\n",
        "      print(\"\\nReached\", ACCURACY_THRESHOLD * 100, \"accuracy, Stopping!\")\n",
        "      self.model.stop_training = True\n",
        "\n",
        "callback = ModelCallback()"
      ],
      "execution_count": null,
      "outputs": []
    },
    {
      "cell_type": "markdown",
      "metadata": {
        "id": "r_5UfCiqolY5"
      },
      "source": [
        "# Training the model generated using Inception v3 and our own set of Fully Connected layers"
      ]
    },
    {
      "cell_type": "markdown",
      "metadata": {
        "id": "MYqSIy_yotLt"
      },
      "source": [
        "**Fitting the model to the training dataset:**"
      ]
    },
    {
      "cell_type": "code",
      "metadata": {
        "id": "IoW7U7q3OYpo",
        "colab": {
          "base_uri": "https://localhost:8080/"
        },
        "outputId": "b7502e9a-6036-49a0-a83f-5251f8c207c5"
      },
      "source": [
        "history = model.fit_generator(\n",
        "    train_generator,\n",
        "    validation_data=validation_generator,\n",
        "    steps_per_epoch=100,\n",
        "    validation_steps=50,\n",
        "    epochs=50,\n",
        "    callbacks=[callback]\n",
        ")"
      ],
      "execution_count": null,
      "outputs": [
        {
          "output_type": "stream",
          "name": "stdout",
          "text": [
            "Epoch 1/50\n",
            " 50/100 [==============>...............] - ETA: 14:51 - loss: 3.4504 - acc: 0.0403"
          ]
        }
      ]
    },
    {
      "cell_type": "markdown",
      "metadata": {
        "id": "4CXVnAVsoyqJ"
      },
      "source": [
        "# Plotting the results"
      ]
    },
    {
      "cell_type": "markdown",
      "metadata": {
        "id": "Rt5LoQJxo7VJ"
      },
      "source": [
        "**Training Accuracy vs Validation Accuracy:**"
      ]
    },
    {
      "cell_type": "code",
      "metadata": {
        "id": "vBj0wfCzPi_v",
        "colab": {
          "base_uri": "https://localhost:8080/",
          "height": 298
        },
        "outputId": "5954e9f2-be9f-4d82-819f-3190a82af321"
      },
      "source": [
        "import matplotlib.pyplot as plt\n",
        "acc = history.history['acc']\n",
        "val_acc = history.history['val_acc']\n",
        "loss = history.history['loss']\n",
        "val_loss = history.history['val_loss']\n",
        "\n",
        "epochs = range(len(acc))\n",
        "\n",
        "plt.plot(epochs, acc, 'r', label='Training accuracy')\n",
        "plt.plot(epochs, val_acc, 'b', label='Validation accuracy')\n",
        "plt.title('Training and validation accuracy')\n",
        "plt.legend(loc=0)\n",
        "plt.figure()\n",
        "\n",
        "\n",
        "plt.show()"
      ],
      "execution_count": null,
      "outputs": [
        {
          "output_type": "display_data",
          "data": {
            "image/png": "[encoded data removed]",
            "text/plain": [
              "<Figure size 432x288 with 1 Axes>"
            ]
          },
          "metadata": {
            "tags": []
          }
        },
        {
          "output_type": "display_data",
          "data": {
            "text/plain": [
              "<Figure size 432x288 with 0 Axes>"
            ]
          },
          "metadata": {
            "tags": []
          }
        }
      ]
    },
    {
      "cell_type": "markdown",
      "metadata": {
        "id": "l1PujB-rpCf9"
      },
      "source": [
        "**Training Loss vs Validation Loss**"
      ]
    },
    {
      "cell_type": "code",
      "metadata": {
        "id": "nu43kLYFbgFO",
        "colab": {
          "base_uri": "https://localhost:8080/",
          "height": 315
        },
        "outputId": "4ac73643-dcee-410f-c99d-343fa045309f"
      },
      "source": [
        "plt.plot(epochs, loss, 'r', label='Training loss')\n",
        "plt.plot(epochs, val_loss, 'b', label='Validation loss')\n",
        "plt.title('Training and validation loss')\n",
        "plt.legend(loc=0)\n",
        "plt.figure()"
      ],
      "execution_count": null,
      "outputs": [
        {
          "output_type": "execute_result",
          "data": {
            "text/plain": [
              "<Figure size 432x288 with 0 Axes>"
            ]
          },
          "metadata": {
            "tags": []
          },
          "execution_count": 201
        },
        {
          "output_type": "display_data",
          "data": {
            "image/png": "[encoded data removed]",
            "text/plain": [
              "<Figure size 432x288 with 1 Axes>"
            ]
          },
          "metadata": {
            "tags": []
          }
        },
        {
          "output_type": "display_data",
          "data": {
            "text/plain": [
              "<Figure size 432x288 with 0 Axes>"
            ]
          },
          "metadata": {
            "tags": []
          }
        }
      ]
    },
    {
      "cell_type": "markdown",
      "metadata": {
        "id": "bwrRQ5vDpNbk"
      },
      "source": [
        "# Saving the model"
      ]
    },
    {
      "cell_type": "markdown",
      "metadata": {
        "id": "2325qEL9pRTD"
      },
      "source": [
        "**As we were satisfied with our results we save our model:**"
      ]
    },
    {
      "cell_type": "code",
      "metadata": {
        "id": "Qw-o3Y99bwsA"
      },
      "source": [
        "# Saving the model\n",
        "MODEL_NAME = 'alphabet_{}.h5'.format(9575)\n",
        "model.save(MODEL_NAME)"
      ],
      "execution_count": null,
      "outputs": []
    },
    {
      "cell_type": "markdown",
      "metadata": {
        "id": "2I9gowc4peGC"
      },
      "source": [
        "# Testing our model"
      ]
    },
    {
      "cell_type": "markdown",
      "metadata": {
        "id": "RdNidh7ipqCA"
      },
      "source": [
        "**Plotting images along with their respective actual and predicted classes:**"
      ]
    },
    {
      "cell_type": "code",
      "metadata": {
        "id": "6Yfh2vDvcGnN"
      },
      "source": [
        "import cv2\n",
        "import numpy as np\n",
        "import os\n",
        "import matplotlib.pyplot as plt\n",
        "\n",
        "classes = os.listdir(TRAINING_DIR)\n",
        "classes.sort()\n",
        "\n",
        "for i, test_image in enumerate(os.listdir(TEST_DIR)):\n",
        "    image_location = TEST_DIR + test_image\n",
        "    img = cv2.imread(image_location)\n",
        "    img = cv2.resize(img, (IMAGE_SIZE, IMAGE_SIZE))\n",
        "    plt.figure()\n",
        "    plt.axis('Off')\n",
        "    plt.imshow(img)\n",
        "    img = np.array(img) / 255.\n",
        "    img = img.reshape((1, IMAGE_SIZE, IMAGE_SIZE, 3))\n",
        "    img = data_generator.standardize(img)\n",
        "    prediction = np.array(model.predict(img))\n",
        "    actual = test_image.split('_')[0]\n",
        "    predicted = classes[prediction.argmax()]\n",
        "    print('Actual class: {} \\n Predicted class: {}'.format(actual, predicted))\n",
        "    plt.show()"
      ],
      "execution_count": null,
      "outputs": []
    },
    {
      "cell_type": "markdown",
      "metadata": {
        "id": "TgA2-ZlTp5Os"
      },
      "source": [
        "**Calculating test accuracy:**"
      ]
    },
    {
      "cell_type": "code",
      "metadata": {
        "id": "5Mw1idlweewd",
        "colab": {
          "base_uri": "https://localhost:8080/",
          "height": 578
        },
        "outputId": "3f44a990-e1f8-4830-ac8e-dbb6312091a6"
      },
      "source": [
        "test_images = os.listdir(TEST_DIR)\n",
        "total_test_cases = len(test_images)\n",
        "total_correctly_classified = 0\n",
        "total_misclassified = 0\n",
        "for i, test_image in enumerate(test_images):\n",
        "    image_location = TEST_DIR + test_image\n",
        "    img = cv2.imread(image_location)\n",
        "    img = cv2.resize(img, (IMAGE_SIZE, IMAGE_SIZE))\n",
        "    img = np.array(img) / 255.\n",
        "    img = img.reshape((1, IMAGE_SIZE, IMAGE_SIZE, 3))\n",
        "    img = data_generator.standardize(img)\n",
        "    prediction = np.array(model.predict(img))\n",
        "    actual = test_image.split('_')[0]\n",
        "    predicted = classes[prediction.argmax()]\n",
        "    print('Actual class: {} - Predicted class: {}'.format(\n",
        "        actual, predicted), end=' ')\n",
        "    if actual == predicted:\n",
        "      print('PASS!')\n",
        "      total_correctly_classified += 1\n",
        "    else:\n",
        "      print('FAIL!')\n",
        "      total_misclassified += 1\n",
        "print(\"=\" * 20)\n",
        "test_accuracy = (total_correctly_classified / total_test_cases) * 100\n",
        "test_error_rate = (total_misclassified / total_test_cases) * 100\n",
        "\n",
        "print('Test accuracy (%):', test_accuracy)\n",
        "print('Test error rate (%):', test_error_rate)\n",
        "print('Number of misclassified classes:', total_misclassified)\n",
        "print('Number of correctly classified classes', total_correctly_classified)"
      ],
      "execution_count": null,
      "outputs": [
        {
          "output_type": "stream",
          "text": [
            "Actual class: V - Predicted class: V PASS!\n",
            "Actual class: O - Predicted class: O PASS!\n",
            "Actual class: B - Predicted class: B PASS!\n",
            "Actual class: D - Predicted class: D PASS!\n",
            "Actual class: I - Predicted class: I PASS!\n",
            "Actual class: U - Predicted class: U PASS!\n",
            "Actual class: T - Predicted class: T PASS!\n",
            "Actual class: P - Predicted class: P PASS!\n",
            "Actual class: S - Predicted class: S PASS!\n",
            "Actual class: J - Predicted class: J PASS!\n",
            "Actual class: nothing - Predicted class: nothing PASS!\n",
            "Actual class: E - Predicted class: E PASS!\n",
            "Actual class: N - Predicted class: N PASS!\n",
            "Actual class: K - Predicted class: K PASS!\n",
            "Actual class: Z - Predicted class: Z PASS!\n",
            "Actual class: Y - Predicted class: J FAIL!\n",
            "Actual class: H - Predicted class: H PASS!\n",
            "Actual class: L - Predicted class: L PASS!\n",
            "Actual class: X - Predicted class: X PASS!\n",
            "Actual class: A - Predicted class: A PASS!\n",
            "Actual class: G - Predicted class: G PASS!\n",
            "Actual class: W - Predicted class: W PASS!\n",
            "Actual class: F - Predicted class: F PASS!\n",
            "Actual class: M - Predicted class: M PASS!\n",
            "Actual class: C - Predicted class: C PASS!\n",
            "Actual class: R - Predicted class: R PASS!\n",
            "Actual class: Q - Predicted class: Q PASS!\n",
            "Actual class: space - Predicted class: space PASS!\n",
            "====================\n",
            "Test accuracy (%): 96.42857142857143\n",
            "Test error rate (%): 3.571428571428571\n",
            "Number of misclassified classes: 1\n",
            "Number of correctly classified classes 27\n"
          ],
          "name": "stdout"
        }
      ]
    },
    {
      "cell_type": "code",
      "metadata": {
        "colab": {
          "base_uri": "https://localhost:8080/"
        },
        "id": "sQSSkbnvXHMK",
        "outputId": "49394193-a151-457b-c81b-7549691a97e3"
      },
      "source": [
        ""
      ],
      "execution_count": null,
      "outputs": [
        {
          "output_type": "stream",
          "name": "stdout",
          "text": [
            "[Errno 2] No such file or directory: './content/'\n",
            "/content/drive/MyDrive\n"
          ]
        }
      ]
    },
    {
      "cell_type": "code",
      "metadata": {
        "colab": {
          "base_uri": "https://localhost:8080/"
        },
        "id": "NjOlpi9FvKa2",
        "outputId": "4b29c2af-4657-496d-c187-b86b63fe42b1"
      },
      "source": [
        "import tensorflow as tf\n",
        "#model = tf.keras.models.load_model('alphabet_9575.h5')\n",
        "converter = tf.lite.TFLiteConverter.from_keras_model_file('Trained_model.h5')\n",
        "tflmodel = converter.convert()\n",
        "file = open( 'sld4.tflite' , 'wb' ) \n",
        "file.write( tflmodel )"
      ],
      "execution_count": null,
      "outputs": [
        {
          "output_type": "stream",
          "name": "stdout",
          "text": [
            "WARNING:tensorflow:Error in loading the saved optimizer state. As a result, your model is starting with a freshly initialized optimizer.\n",
            "INFO:tensorflow:Froze 8 variables.\n",
            "INFO:tensorflow:Converted 8 variables to const ops.\n"
          ]
        },
        {
          "output_type": "execute_result",
          "data": {
            "text/plain": [
              "6493032"
            ]
          },
          "metadata": {},
          "execution_count": 4
        }
      ]
    },
    {
      "cell_type": "code",
      "metadata": {
        "id": "lC_IM6Dzjmp8"
      },
      "source": [
        ""
      ],
      "execution_count": null,
      "outputs": []
    }
  ]
}